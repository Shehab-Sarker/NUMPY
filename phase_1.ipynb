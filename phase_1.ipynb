{
 "cells": [
  {
   "cell_type": "markdown",
   "id": "db8ea60a",
   "metadata": {},
   "source": [
    "### Leann About numpy"
   ]
  },
  {
   "cell_type": "code",
   "execution_count": 1,
   "id": "61f586c4",
   "metadata": {},
   "outputs": [],
   "source": [
    "import numpy as np"
   ]
  },
  {
   "cell_type": "markdown",
   "id": "1070ba50",
   "metadata": {},
   "source": [
    "### Creating Array"
   ]
  },
  {
   "cell_type": "code",
   "execution_count": 2,
   "id": "3e5a32e3",
   "metadata": {},
   "outputs": [
    {
     "name": "stdout",
     "output_type": "stream",
     "text": [
      "1D Array : [1 2 3 4 5]\n"
     ]
    }
   ],
   "source": [
    "array_1d = np.array([1,2,3,4,5])\n",
    "print(\"1D Array :\",array_1d)"
   ]
  },
  {
   "cell_type": "code",
   "execution_count": null,
   "id": "373cff9e",
   "metadata": {},
   "outputs": [],
   "source": [
    "array_2d=np.array([[1,2,3,4],[4,5,6,7]])\n",
    "print(\"2D Array :\", array_2d)"
   ]
  },
  {
   "cell_type": "markdown",
   "id": "a471277e",
   "metadata": {},
   "source": [
    "### List vs numpy array"
   ]
  },
  {
   "cell_type": "code",
   "execution_count": null,
   "id": "21bc86d9",
   "metadata": {},
   "outputs": [],
   "source": [
    "py_list = [1,2,3,4,5]\n",
    "print(\"Python list multiplication : \",py_list * 2)\n",
    "\n",
    "np_aray = np.array([1,5,2,6,7]) #element wise multiplication \n",
    "print(\"Python array multiplication : \",np_aray * 2)\n"
   ]
  },
  {
   "cell_type": "code",
   "execution_count": null,
   "id": "d1add393",
   "metadata": {},
   "outputs": [],
   "source": [
    "import time\n",
    "start = time.time()\n",
    "py_list = [i*2 for i in range(1000000)]\n",
    "print(\"\\n List operation time : \",time.time()-start)\n",
    "\n",
    "start = time.time()\n",
    "np_array = np.arange(10000000) *2\n",
    "print(\"\\n Numpy operation time: \", time.time() - start)"
   ]
  },
  {
   "cell_type": "markdown",
   "id": "b325c0ab",
   "metadata": {},
   "source": [
    "### Creating array from scratch"
   ]
  },
  {
   "cell_type": "code",
   "execution_count": null,
   "id": "266b8fbf",
   "metadata": {},
   "outputs": [],
   "source": [
    "zeros =np.zeros((3,5))\n",
    "print(\"zeros array: \\n\", zeros)\n",
    "\n",
    "ones = np.ones((2,3))\n",
    "print(\"one array :\\n\",ones)\n",
    "\n",
    "full = np.full((2,2),7)\n",
    "print(\"full array :\\n\",full)\n",
    "\n",
    "randm =np.random.random((2,2))\n",
    "print(\"Random array: \\n\",randm)\n",
    "\n",
    "sequence = np.arange(0,10,2)\n",
    "print(\"Sequence array :\\n\",sequence)"
   ]
  },
  {
   "cell_type": "markdown",
   "id": "336a0488",
   "metadata": {},
   "source": [
    "### Vector , Matrix and Tensor"
   ]
  },
  {
   "cell_type": "code",
   "execution_count": 1,
   "id": "a6d371b9",
   "metadata": {},
   "outputs": [
    {
     "name": "stdout",
     "output_type": "stream",
     "text": [
      "Vector :  [1 2 3]\n",
      "Matrix : [[1 2 3]\n",
      " [4 5 6]]\n",
      "Tensor : [[[ 1  2  3]\n",
      "  [ 4  5  6]]\n",
      "\n",
      " [[ 7  8  9]\n",
      "  [10 11 12]]]\n"
     ]
    }
   ],
   "source": [
    "import numpy as np\n",
    "\n",
    "vector = np.array([1,2,3])\n",
    "print(\"Vector : \",vector)\n",
    "\n",
    "matrix = np.array([[1,2,3],[4,5,6]])\n",
    "print(\"Matrix :\",matrix)\n",
    "\n",
    "tensor = np.array([[[1,2,3], [4,5,6]],\n",
    "                    [[7,8,9],[10,11,12]]])\n",
    "print(\"Tensor :\",tensor)"
   ]
  },
  {
   "cell_type": "markdown",
   "id": "c90f67b9",
   "metadata": {},
   "source": [
    "### Array properties"
   ]
  },
  {
   "cell_type": "code",
   "execution_count": 12,
   "id": "1aa2c7c1",
   "metadata": {},
   "outputs": [
    {
     "name": "stdout",
     "output_type": "stream",
     "text": [
      "Shape :  (2, 3)\n",
      "Dimension :  2\n",
      "Size :  6\n",
      "DType :  int64\n"
     ]
    }
   ],
   "source": [
    "arr = np.array([[1,2,3],[1,2,3]])\n",
    "print(\"Shape : \",arr.shape)\n",
    "print(\"Dimension : \",arr.ndim)\n",
    "print(\"Size : \",arr.size)\n",
    "print(\"DType : \",arr.dtype)"
   ]
  },
  {
   "cell_type": "markdown",
   "id": "3d453c9c",
   "metadata": {},
   "source": [
    "### Array Reshaped"
   ]
  },
  {
   "cell_type": "code",
   "execution_count": 20,
   "id": "ef49422d",
   "metadata": {},
   "outputs": [
    {
     "name": "stdout",
     "output_type": "stream",
     "text": [
      "Orginal array : [ 0  1  2  3  4  5  6  7  8  9 10 11]\n",
      "Reshaped array :  [[ 0  1  2  3]\n",
      " [ 4  5  6  7]\n",
      " [ 8  9 10 11]]\n",
      "Flattened array : [ 0  1  2  3  4  5  6  7  8  9 10 11]\n",
      "\n",
      "Reveled array : [ 0  1  2  3  4  5  6  7  8  9 10 11]\n",
      "Transpose Array : [[ 0  4  8]\n",
      " [ 1  5  9]\n",
      " [ 2  6 10]\n",
      " [ 3  7 11]]\n"
     ]
    }
   ],
   "source": [
    "from numpy import transpose\n",
    "\n",
    "\n",
    "arr=np.arange(12)\n",
    "print(\"Orginal array :\", arr)\n",
    "\n",
    "reshaped=arr.reshape(3,4)\n",
    "print(\"Reshaped array : \",reshaped)\n",
    "\n",
    "flattend = reshaped.flatten()\n",
    "print(\"Flattened array :\",flattend)\n",
    "\n",
    "# ravel---> (returns view, instead of view)\n",
    "raveled = reshaped.ravel()\n",
    "print(\"\\nReveled array :\",raveled) \n",
    "\n",
    "transposed= reshaped.T\n",
    "print(\"Transpose Array :\",transposed)"
   ]
  },
  {
   "cell_type": "markdown",
   "id": "93133b8e",
   "metadata": {},
   "source": [
    "### Numpy Array operations"
   ]
  },
  {
   "cell_type": "code",
   "execution_count": 2,
   "id": "dd976e49",
   "metadata": {},
   "outputs": [],
   "source": [
    "import numpy as np"
   ]
  },
  {
   "cell_type": "code",
   "execution_count": 4,
   "id": "07c15c4f",
   "metadata": {},
   "outputs": [
    {
     "name": "stdout",
     "output_type": "stream",
     "text": [
      "Basic Slicing :  [3 4 5 6 7]\n",
      "With Step :  [2 4 6 8]\n",
      "Negative indexing : 10\n"
     ]
    }
   ],
   "source": [
    "arr = np.array([1,2,3,4,5,6,7,8,9,10])\n",
    "print(\"Basic Slicing : \",arr[2:7])\n",
    "\n",
    "print(\"With Step : \",arr[1:8:2])\n",
    "print(\"Negative indexing :\",arr[-1])"
   ]
  },
  {
   "cell_type": "code",
   "execution_count": 12,
   "id": "b82dfb49",
   "metadata": {},
   "outputs": [
    {
     "name": "stdout",
     "output_type": "stream",
     "text": [
      "Specific element :  8\n",
      "Shape : (3, 3)\n",
      "Dimension : 2\n",
      "Entire row:  [4 5 6]\n",
      "Entire Column : [3 6 9]\n"
     ]
    }
   ],
   "source": [
    "arr_2d = np.array([[1,2,3],\n",
    "                   [4,5,6],\n",
    "                   [7,8,9]])\n",
    "print(\"Specific element : \",arr_2d[2,1])\n",
    "print(\"Shape :\",arr_2d.shape)\n",
    "print(\"Dimension :\",arr_2d.ndim) \n",
    "print(\"Entire row: \",arr_2d[1])\n",
    "print(\"Entire Column :\",arr_2d[:,2])"
   ]
  },
  {
   "cell_type": "markdown",
   "id": "2d7fba0b",
   "metadata": {},
   "source": [
    "### Sorting"
   ]
  },
  {
   "cell_type": "code",
   "execution_count": 18,
   "id": "0774b317",
   "metadata": {},
   "outputs": [
    {
     "name": "stdout",
     "output_type": "stream",
     "text": [
      "Sorted Array : [1 1 2 3 4 5 6 9]\n",
      "Sorted 2d array Column wise :  [[3 2 1]\n",
      " [7 5 9]\n",
      " [8 6 9]]\n",
      "Sorted 2d array Row wise :  [[1 2 3]\n",
      " [5 7 9]\n",
      " [6 8 9]]\n"
     ]
    }
   ],
   "source": [
    "unsorted = np.array([3,1,4,1,5,9,2,6])\n",
    "print(\"Sorted Array :\",np.sort(unsorted))\n",
    "\n",
    "arr_2d_unsorted =np.array([[3,2,1],[7,5,9],[8,6,9]])\n",
    "print(\"Sorted 2d array Column wise : \",np.sort(arr_2d_unsorted,axis=0))\n",
    "print(\"Sorted 2d array Row wise : \",np.sort(arr_2d_unsorted,axis=1))"
   ]
  }
 ],
 "metadata": {
  "kernelspec": {
   "display_name": "myenv",
   "language": "python",
   "name": "python3"
  },
  "language_info": {
   "codemirror_mode": {
    "name": "ipython",
    "version": 3
   },
   "file_extension": ".py",
   "mimetype": "text/x-python",
   "name": "python",
   "nbconvert_exporter": "python",
   "pygments_lexer": "ipython3",
   "version": "3.13.3"
  }
 },
 "nbformat": 4,
 "nbformat_minor": 5
}
