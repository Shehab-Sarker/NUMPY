{
 "cells": [
  {
   "cell_type": "markdown",
   "id": "d9031aa7",
   "metadata": {},
   "source": [
    "### Filter"
   ]
  },
  {
   "cell_type": "code",
   "execution_count": 4,
   "id": "dff74747",
   "metadata": {},
   "outputs": [],
   "source": [
    "import numpy as np"
   ]
  },
  {
   "cell_type": "code",
   "execution_count": 10,
   "id": "18042662",
   "metadata": {},
   "outputs": [
    {
     "name": "stdout",
     "output_type": "stream",
     "text": [
      "[False False False False False  True  True  True  True  True]\n",
      "Numbers greater than 5: [ 6  7  8  9 10]\n",
      "Numbers greater than 5: [ 6  7  8  9 10]\n"
     ]
    }
   ],
   "source": [
    "numbers =np.array([1,2,3,4,5,6,7,8,9,10])\n",
    "print(numbers>5)\n",
    "\n",
    "mask= numbers>5\n",
    "print(\"Numbers greater than 5:\",numbers[mask])\n",
    "print(\"Numbers greater than 5:\",numbers[numbers>5])"
   ]
  },
  {
   "cell_type": "markdown",
   "id": "db5cb827",
   "metadata": {},
   "source": [
    "### Fancy indexing VS np.where()"
   ]
  },
  {
   "cell_type": "code",
   "execution_count": 18,
   "id": "e5829517",
   "metadata": {},
   "outputs": [
    {
     "name": "stdout",
     "output_type": "stream",
     "text": [
      "[ 1  2  3  4  5  6  7  8  9 10]\n",
      "[1 3 5]\n",
      "(array([5, 6, 7, 8, 9]),)\n",
      "NP Where : [ 6  7  8  9 10]\n"
     ]
    }
   ],
   "source": [
    "print(numbers)\n",
    "\n",
    "indiex = [0,2,4]\n",
    "print(numbers[indiex])\n",
    "\n",
    "where_result = np.where(numbers>5)\n",
    "print(where_result)\n",
    "print(\"NP Where :\", numbers[where_result])"
   ]
  },
  {
   "cell_type": "markdown",
   "id": "37b3a0ff",
   "metadata": {},
   "source": [
    "### Conditional Array instead if else"
   ]
  },
  {
   "cell_type": "code",
   "execution_count": 22,
   "id": "9d04f341",
   "metadata": {},
   "outputs": [
    {
     "name": "stdout",
     "output_type": "stream",
     "text": [
      "[ 1  2  3  4  5  6  7  8  9 10]\n",
      "[ 0  0  0  0  0 18 21 24 27 30]\n",
      "[False False False False False  True  True  True  True  True]\n"
     ]
    }
   ],
   "source": [
    "\n",
    "print(numbers)\n",
    "condition_array = np.where(numbers>5,numbers*3,numbers*0)\n",
    "print(condition_array)\n",
    "\n",
    "condition_array = np.where(numbers>5,True, False)\n",
    "print(condition_array)"
   ]
  },
  {
   "cell_type": "code",
   "execution_count": null,
   "id": "20c4e1b7",
   "metadata": {},
   "outputs": [],
   "source": []
  }
 ],
 "metadata": {
  "kernelspec": {
   "display_name": "myenv",
   "language": "python",
   "name": "python3"
  },
  "language_info": {
   "codemirror_mode": {
    "name": "ipython",
    "version": 3
   },
   "file_extension": ".py",
   "mimetype": "text/x-python",
   "name": "python",
   "nbconvert_exporter": "python",
   "pygments_lexer": "ipython3",
   "version": "3.13.3"
  }
 },
 "nbformat": 4,
 "nbformat_minor": 5
}
