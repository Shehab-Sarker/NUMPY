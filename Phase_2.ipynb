{
 "cells": [
  {
   "cell_type": "markdown",
   "id": "d9031aa7",
   "metadata": {},
   "source": [
    "### Filter"
   ]
  },
  {
   "cell_type": "code",
   "execution_count": 4,
   "id": "dff74747",
   "metadata": {},
   "outputs": [],
   "source": [
    "import numpy as np"
   ]
  },
  {
   "cell_type": "code",
   "execution_count": 10,
   "id": "18042662",
   "metadata": {},
   "outputs": [
    {
     "name": "stdout",
     "output_type": "stream",
     "text": [
      "[False False False False False  True  True  True  True  True]\n",
      "Numbers greater than 5: [ 6  7  8  9 10]\n",
      "Numbers greater than 5: [ 6  7  8  9 10]\n"
     ]
    }
   ],
   "source": [
    "numbers =np.array([1,2,3,4,5,6,7,8,9,10])\n",
    "print(numbers>5)\n",
    "\n",
    "mask= numbers>5\n",
    "print(\"Numbers greater than 5:\",numbers[mask])\n",
    "print(\"Numbers greater than 5:\",numbers[numbers>5])"
   ]
  },
  {
   "cell_type": "markdown",
   "id": "db5cb827",
   "metadata": {},
   "source": [
    "### Fancy indexing VS np.where()"
   ]
  },
  {
   "cell_type": "code",
   "execution_count": 18,
   "id": "e5829517",
   "metadata": {},
   "outputs": [
    {
     "name": "stdout",
     "output_type": "stream",
     "text": [
      "[ 1  2  3  4  5  6  7  8  9 10]\n",
      "[1 3 5]\n",
      "(array([5, 6, 7, 8, 9]),)\n",
      "NP Where : [ 6  7  8  9 10]\n"
     ]
    }
   ],
   "source": [
    "print(numbers)\n",
    "\n",
    "indiex = [0,2,4]\n",
    "print(numbers[indiex])\n",
    "\n",
    "where_result = np.where(numbers>5)\n",
    "print(where_result)\n",
    "print(\"NP Where :\", numbers[where_result])"
   ]
  },
  {
   "cell_type": "markdown",
   "id": "37b3a0ff",
   "metadata": {},
   "source": [
    "### Conditional Array instead if else"
   ]
  },
  {
   "cell_type": "code",
   "execution_count": 22,
   "id": "9d04f341",
   "metadata": {},
   "outputs": [
    {
     "name": "stdout",
     "output_type": "stream",
     "text": [
      "[ 1  2  3  4  5  6  7  8  9 10]\n",
      "[ 0  0  0  0  0 18 21 24 27 30]\n",
      "[False False False False False  True  True  True  True  True]\n"
     ]
    }
   ],
   "source": [
    "\n",
    "print(numbers)\n",
    "condition_array = np.where(numbers>5,numbers*3,numbers*0)\n",
    "print(condition_array)\n",
    "\n",
    "condition_array = np.where(numbers>5,True, False)\n",
    "print(condition_array)"
   ]
  },
  {
   "cell_type": "code",
   "execution_count": 1,
   "id": "20c4e1b7",
   "metadata": {},
   "outputs": [],
   "source": [
    "import numpy as np"
   ]
  },
  {
   "cell_type": "markdown",
   "id": "289dcc11",
   "metadata": {},
   "source": [
    "### Adding and removing data"
   ]
  },
  {
   "cell_type": "code",
   "execution_count": 4,
   "id": "be8b2945",
   "metadata": {},
   "outputs": [
    {
     "name": "stdout",
     "output_type": "stream",
     "text": [
      "[1 2 3 4 5 6]\n"
     ]
    }
   ],
   "source": [
    "arr1=np.array([1,2,3])\n",
    "arr2 = np.array([4,5,6])\n",
    "combined = np.concatenate((arr1,arr2))\n",
    "print(combined)"
   ]
  },
  {
   "cell_type": "markdown",
   "id": "e650637e",
   "metadata": {},
   "source": [
    "#### Array Compatibillty"
   ]
  },
  {
   "cell_type": "code",
   "execution_count": 7,
   "id": "39cbf545",
   "metadata": {},
   "outputs": [
    {
     "name": "stdout",
     "output_type": "stream",
     "text": [
      "Compatibility Shapes : False\n",
      "Compatibility Shapes : True\n"
     ]
    }
   ],
   "source": [
    "a= np.array([1,2,3])\n",
    "b= np.array([4,5,6,7])\n",
    "c= np.array([7,8,9])\n",
    "\n",
    "print(\"Compatibility Shapes :\",a.shape == b.shape)\n",
    "print(\"Compatibility Shapes :\",a.shape == c.shape)"
   ]
  },
  {
   "cell_type": "code",
   "execution_count": 13,
   "id": "ceb97f2f",
   "metadata": {},
   "outputs": [
    {
     "name": "stdout",
     "output_type": "stream",
     "text": [
      "orgnal: [[1 2]\n",
      " [3 4]] \n",
      "new_Row : [[5 6]] \n",
      "With_new_row : [[1 2]\n",
      " [3 4]\n",
      " [5 6]]\n",
      "with_new_Colum : [[1 2 7]\n",
      " [3 4 8]]\n"
     ]
    }
   ],
   "source": [
    "# Array adding column wise and increace row\n",
    "Orginal_arr = np.array([[1,2],[3,4]])\n",
    "new_row =np.array([[5,6]])\n",
    "with_new_row = np.vstack((Orginal_arr,new_row))\n",
    "print(f\"orgnal: {Orginal_arr} \\nnew_Row : {new_row} \\nWith_new_row : {with_new_row}\")\n",
    "\n",
    "# Array adding row wise and increase column\n",
    "new_colm=np.array([[7],[8]])\n",
    "with_new_col=np.hstack((Orginal_arr,new_colm))\n",
    "print(f\"with_new_Colum : {with_new_col}\")"
   ]
  },
  {
   "cell_type": "code",
   "execution_count": 17,
   "id": "2fd310dd",
   "metadata": {},
   "outputs": [
    {
     "name": "stdout",
     "output_type": "stream",
     "text": [
      "Orginal Array : [1 2 3 4 5 6 7 8]\n",
      "Deleting Element after Array : [1 2 4 5 6 7 8]\n"
     ]
    }
   ],
   "source": [
    "# Deleting element from  Array\n",
    "arr=np.array([1,2,3,4,5,6,7,8])\n",
    "deleted=np.delete(arr,2)\n",
    "print(f\"Orginal Array : {arr}\\nDeleting Element after Array : {deleted}\")"
   ]
  }
 ],
 "metadata": {
  "kernelspec": {
   "display_name": "myenv",
   "language": "python",
   "name": "python3"
  },
  "language_info": {
   "codemirror_mode": {
    "name": "ipython",
    "version": 3
   },
   "file_extension": ".py",
   "mimetype": "text/x-python",
   "name": "python",
   "nbconvert_exporter": "python",
   "pygments_lexer": "ipython3",
   "version": "3.13.3"
  }
 },
 "nbformat": 4,
 "nbformat_minor": 5
}
