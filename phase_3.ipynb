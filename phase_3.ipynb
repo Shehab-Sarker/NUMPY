{
 "cells": [
  {
   "cell_type": "markdown",
   "id": "a99d9bfa",
   "metadata": {},
   "source": [
    "#### **Advance operation with  Business examples**"
   ]
  },
  {
   "cell_type": "code",
   "execution_count": null,
   "id": "6766b356",
   "metadata": {},
   "outputs": [],
   "source": [
    "import numpy as np\n",
    "import matplotlib.pyplot as plt"
   ]
  },
  {
   "cell_type": "code",
   "execution_count": null,
   "id": "b936c87a",
   "metadata": {},
   "outputs": [
    {
     "name": "stdout",
     "output_type": "stream",
     "text": [
      "=== Zomato sales analysis ===\n",
      "\n",
      " Sales data Shape: (5, 5)\n"
     ]
    }
   ],
   "source": [
    "# Data structure : [resturant_id,2021,2022,2023,2024]\n",
    "sales_data = np.array([\n",
    "    [1,150000,180000,220000,250000], #Paradise Biriyani\n",
    "    [2,120000,140000,160000,190000], #Beijing Bites\n",
    "    [3,200000,230000,260000,300000], #Pizza Hub\n",
    "    [4,180000,210000,240000,270000], #Burger Point\n",
    "    [5,160000,185000,205000,230000], #Chai point\n",
    "]) \n",
    "\n",
    "print(\"=== Zomato sales analysis ===\")\n",
    "print(\"\\n Sales data Shape:\",sales_data.shape)"
   ]
  }
 ],
 "metadata": {
  "kernelspec": {
   "display_name": "myenv",
   "language": "python",
   "name": "python3"
  },
  "language_info": {
   "codemirror_mode": {
    "name": "ipython",
    "version": 3
   },
   "file_extension": ".py",
   "mimetype": "text/x-python",
   "name": "python",
   "nbconvert_exporter": "python",
   "pygments_lexer": "ipython3",
   "version": "3.13.3"
  }
 },
 "nbformat": 4,
 "nbformat_minor": 5
}
